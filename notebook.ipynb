{
 "cells": [
  {
   "cell_type": "code",
   "execution_count": 17,
   "metadata": {},
   "outputs": [],
   "source": [
    "import pandas as pd \n",
    "import matplotlib.pyplot as plt\n",
    "import plotly.graph_objects as go\n"
   ]
  },
  {
   "cell_type": "code",
   "execution_count": 19,
   "metadata": {},
   "outputs": [
    {
     "data": {
      "application/vnd.microsoft.datawrangler.viewer.v0+json": {
       "columns": [
        {
         "name": "index",
         "rawType": "int64",
         "type": "integer"
        },
        {
         "name": "pa",
         "rawType": "float64",
         "type": "float"
        },
        {
         "name": "fp",
         "rawType": "float64",
         "type": "float"
        },
        {
         "name": "fr",
         "rawType": "float64",
         "type": "float"
        },
        {
         "name": "fnl",
         "rawType": "float64",
         "type": "float"
        },
        {
         "name": "tempo",
         "rawType": "int64",
         "type": "integer"
        },
        {
         "name": "delta_p",
         "rawType": "float64",
         "type": "float"
        }
       ],
       "conversionMethod": "pd.DataFrame",
       "ref": "1fb46a22-bcb1-4fae-ba30-ec62c6855dc8",
       "rows": [
        [
         "0",
         "1.81",
         "0.26",
         "0.9",
         "-0.02",
         "298003",
         null
        ],
        [
         "1",
         "1.81",
         "0.26",
         "0.9",
         "-0.02",
         "298007",
         "0.0"
        ],
        [
         "2",
         "1.81",
         "0.26",
         "0.9",
         "-0.02",
         "298010",
         "0.0"
        ],
        [
         "3",
         "1.81",
         "0.26",
         "0.9",
         "-0.02",
         "298014",
         "0.0"
        ],
        [
         "4",
         "1.81",
         "0.26",
         "0.9",
         "-0.02",
         "298018",
         "0.0"
        ]
       ],
       "shape": {
        "columns": 6,
        "rows": 5
       }
      },
      "text/html": [
       "<div>\n",
       "<style scoped>\n",
       "    .dataframe tbody tr th:only-of-type {\n",
       "        vertical-align: middle;\n",
       "    }\n",
       "\n",
       "    .dataframe tbody tr th {\n",
       "        vertical-align: top;\n",
       "    }\n",
       "\n",
       "    .dataframe thead th {\n",
       "        text-align: right;\n",
       "    }\n",
       "</style>\n",
       "<table border=\"1\" class=\"dataframe\">\n",
       "  <thead>\n",
       "    <tr style=\"text-align: right;\">\n",
       "      <th></th>\n",
       "      <th>pa</th>\n",
       "      <th>fp</th>\n",
       "      <th>fr</th>\n",
       "      <th>fnl</th>\n",
       "      <th>tempo</th>\n",
       "      <th>delta_p</th>\n",
       "    </tr>\n",
       "  </thead>\n",
       "  <tbody>\n",
       "    <tr>\n",
       "      <th>0</th>\n",
       "      <td>1.81</td>\n",
       "      <td>0.26</td>\n",
       "      <td>0.9</td>\n",
       "      <td>-0.02</td>\n",
       "      <td>298003</td>\n",
       "      <td>NaN</td>\n",
       "    </tr>\n",
       "    <tr>\n",
       "      <th>1</th>\n",
       "      <td>1.81</td>\n",
       "      <td>0.26</td>\n",
       "      <td>0.9</td>\n",
       "      <td>-0.02</td>\n",
       "      <td>298007</td>\n",
       "      <td>0.0</td>\n",
       "    </tr>\n",
       "    <tr>\n",
       "      <th>2</th>\n",
       "      <td>1.81</td>\n",
       "      <td>0.26</td>\n",
       "      <td>0.9</td>\n",
       "      <td>-0.02</td>\n",
       "      <td>298010</td>\n",
       "      <td>0.0</td>\n",
       "    </tr>\n",
       "    <tr>\n",
       "      <th>3</th>\n",
       "      <td>1.81</td>\n",
       "      <td>0.26</td>\n",
       "      <td>0.9</td>\n",
       "      <td>-0.02</td>\n",
       "      <td>298014</td>\n",
       "      <td>0.0</td>\n",
       "    </tr>\n",
       "    <tr>\n",
       "      <th>4</th>\n",
       "      <td>1.81</td>\n",
       "      <td>0.26</td>\n",
       "      <td>0.9</td>\n",
       "      <td>-0.02</td>\n",
       "      <td>298018</td>\n",
       "      <td>0.0</td>\n",
       "    </tr>\n",
       "  </tbody>\n",
       "</table>\n",
       "</div>"
      ],
      "text/plain": [
       "     pa    fp   fr   fnl   tempo  delta_p\n",
       "0  1.81  0.26  0.9 -0.02  298003      NaN\n",
       "1  1.81  0.26  0.9 -0.02  298007      0.0\n",
       "2  1.81  0.26  0.9 -0.02  298010      0.0\n",
       "3  1.81  0.26  0.9 -0.02  298014      0.0\n",
       "4  1.81  0.26  0.9 -0.02  298018      0.0"
      ]
     },
     "execution_count": 19,
     "metadata": {},
     "output_type": "execute_result"
    }
   ],
   "source": [
    "#Pre processamento csv\n",
    "df = pd.read_csv('dados_esp32.csv')\n",
    "df['Dado'] = df['Dado'].str.split(',')\n",
    "df['pa'] = df.apply(lambda x: float(x['Dado'][0]), axis=1)\n",
    "df['fp'] = df.apply(lambda x: float(x['Dado'][1]), axis=1)\n",
    "df['fr'] = df.apply(lambda x: float(x['Dado'][2]), axis=1)\n",
    "df['fnl_tempo'] = df.apply(lambda x: str(x['Dado'][3]), axis=1)\n",
    "df['fnl_tempo'] = df['fnl_tempo'].str.split(' - ')\n",
    "df['fnl'] = df.apply(lambda x: float(x['fnl_tempo'][0]), axis=1)\n",
    "df['tempo'] = df.apply(lambda x: int(x['fnl_tempo'][1]), axis=1)\n",
    "df['delta_p'] = df['pa'].diff()\n",
    "df.drop(columns=['Dado','fnl_tempo','Timestamp'], inplace=True)\n",
    "df.to_csv('dados_esp32_processado.csv', index=False)\n",
    "df.head()\n"
   ]
  },
  {
   "cell_type": "code",
   "execution_count": 31,
   "metadata": {},
   "outputs": [
    {
     "data": {
      "application/vnd.microsoft.datawrangler.viewer.v0+json": {
       "columns": [
        {
         "name": "index",
         "rawType": "int64",
         "type": "integer"
        },
        {
         "name": "pa",
         "rawType": "float64",
         "type": "float"
        },
        {
         "name": "fp",
         "rawType": "float64",
         "type": "float"
        },
        {
         "name": "fr",
         "rawType": "float64",
         "type": "float"
        },
        {
         "name": "fnl",
         "rawType": "float64",
         "type": "float"
        },
        {
         "name": "tempo",
         "rawType": "int64",
         "type": "integer"
        }
       ],
       "conversionMethod": "pd.DataFrame",
       "ref": "db6bb6c4-9075-4fa9-8a8c-f5b8bf80cf29",
       "rows": [
        [
         "0",
         "1.8077611940298508",
         "0.26",
         "0.9",
         "-0.02",
         "298003"
        ],
        [
         "1",
         "1.8079411764705882",
         "0.26",
         "0.9",
         "-0.02",
         "298251"
        ],
        [
         "2",
         "1.8040298507462686",
         "0.26",
         "0.9",
         "-0.02",
         "298502"
        ],
        [
         "3",
         "1.81",
         "0.26",
         "0.9",
         "-0.02",
         "298750"
        ],
        [
         "4",
         "1.8017647058823532",
         "0.26",
         "0.9",
         "-0.02",
         "299001"
        ]
       ],
       "shape": {
        "columns": 5,
        "rows": 5
       }
      },
      "text/html": [
       "<div>\n",
       "<style scoped>\n",
       "    .dataframe tbody tr th:only-of-type {\n",
       "        vertical-align: middle;\n",
       "    }\n",
       "\n",
       "    .dataframe tbody tr th {\n",
       "        vertical-align: top;\n",
       "    }\n",
       "\n",
       "    .dataframe thead th {\n",
       "        text-align: right;\n",
       "    }\n",
       "</style>\n",
       "<table border=\"1\" class=\"dataframe\">\n",
       "  <thead>\n",
       "    <tr style=\"text-align: right;\">\n",
       "      <th></th>\n",
       "      <th>pa</th>\n",
       "      <th>fp</th>\n",
       "      <th>fr</th>\n",
       "      <th>fnl</th>\n",
       "      <th>tempo</th>\n",
       "    </tr>\n",
       "  </thead>\n",
       "  <tbody>\n",
       "    <tr>\n",
       "      <th>0</th>\n",
       "      <td>1.807761</td>\n",
       "      <td>0.26</td>\n",
       "      <td>0.9</td>\n",
       "      <td>-0.02</td>\n",
       "      <td>298003</td>\n",
       "    </tr>\n",
       "    <tr>\n",
       "      <th>1</th>\n",
       "      <td>1.807941</td>\n",
       "      <td>0.26</td>\n",
       "      <td>0.9</td>\n",
       "      <td>-0.02</td>\n",
       "      <td>298251</td>\n",
       "    </tr>\n",
       "    <tr>\n",
       "      <th>2</th>\n",
       "      <td>1.804030</td>\n",
       "      <td>0.26</td>\n",
       "      <td>0.9</td>\n",
       "      <td>-0.02</td>\n",
       "      <td>298502</td>\n",
       "    </tr>\n",
       "    <tr>\n",
       "      <th>3</th>\n",
       "      <td>1.810000</td>\n",
       "      <td>0.26</td>\n",
       "      <td>0.9</td>\n",
       "      <td>-0.02</td>\n",
       "      <td>298750</td>\n",
       "    </tr>\n",
       "    <tr>\n",
       "      <th>4</th>\n",
       "      <td>1.801765</td>\n",
       "      <td>0.26</td>\n",
       "      <td>0.9</td>\n",
       "      <td>-0.02</td>\n",
       "      <td>299001</td>\n",
       "    </tr>\n",
       "  </tbody>\n",
       "</table>\n",
       "</div>"
      ],
      "text/plain": [
       "         pa    fp   fr   fnl   tempo\n",
       "0  1.807761  0.26  0.9 -0.02  298003\n",
       "1  1.807941  0.26  0.9 -0.02  298251\n",
       "2  1.804030  0.26  0.9 -0.02  298502\n",
       "3  1.810000  0.26  0.9 -0.02  298750\n",
       "4  1.801765  0.26  0.9 -0.02  299001"
      ]
     },
     "execution_count": 31,
     "metadata": {},
     "output_type": "execute_result"
    }
   ],
   "source": [
    "df['grupo_60s'] = (df['tempo'] // 250) * 250  # início de cada intervalo de 60s\n",
    "\n",
    "# Agora você pode fazer a agregação que quiser. Por exemplo:\n",
    "df_agrupado = df.groupby('grupo_60s').agg({\n",
    "    'pa': 'mean',\n",
    "    'fp': 'mean',\n",
    "    'fr': 'mean',\n",
    "    'fnl': 'mean',\n",
    "    'delta_p': 'mean',\n",
    "    'tempo': 'first'  # ou 'min', 'max', etc.\n",
    "}).reset_index()\n",
    "df_agrupado.drop(columns=['grupo_60s','delta_p'], inplace=True)\n",
    "# Salvar novo CSV\n",
    "df_agrupado.to_csv('dados_esp32_agrupado_60s.csv', index=False)\n",
    "\n",
    "df_agrupado.head()"
   ]
  },
  {
   "cell_type": "code",
   "execution_count": 33,
   "metadata": {},
   "outputs": [
    {
     "data": {
      "text/plain": [
       "[<matplotlib.lines.Line2D at 0x2357aafed50>]"
      ]
     },
     "execution_count": 33,
     "metadata": {},
     "output_type": "execute_result"
    },
    {
     "data": {
      "image/png": "[encoded data removed]",
      "text/plain": [
       "<Figure size 640x480 with 1 Axes>"
      ]
     },
     "metadata": {},
     "output_type": "display_data"
    }
   ],
   "source": [
    "plt.plot(df_agrupado['tempo'], df_agrupado['pa'], label='PA', color='blue')"
   ]
  },
  {
   "cell_type": "code",
   "execution_count": null,
   "metadata": {},
   "outputs": [],
   "source": []
  },
  {
   "cell_type": "code",
   "execution_count": 32,
   "metadata": {},
   "outputs": [
    {
     "name": "stderr",
     "output_type": "stream",
     "text": [
      "C:\\Users\\joaop\\AppData\\Local\\Temp\\ipykernel_6888\\3685305942.py:1: ParserWarning:\n",
      "\n",
      "Falling back to the 'python' engine because the 'c' engine does not support regex separators (separators > 1 char and different from '\\s+' are interpreted as regex); you can avoid this warning by specifying engine='python'.\n",
      "\n"
     ]
    },
    {
     "data": {
      "application/vnd.plotly.v1+json": {
       "config": {
        "plotlyServerURL": "https://plot.ly"
       },
       "data": [
        {
         "line": {
          "color": "blue"
         },
         "mode": "lines",
         "name": "PA",
         "type": "scatter",
         "x": {
          "bdata": "E4wEAAuNBAAGjgQA/o4EAPmPBAD0kAQA7JEEAOeSBADjkwQA2pQEANWVBADQlgQAyJcEAMOYBAC+mQQAtpoEALGbBACsnAQApJ0EAKCeBACYnwQAlKAEAIyhBACIogQAgKMEAHykBAB1pQQAcaYEAGmnBABlqAQAXakEAFmqBABRqwQATawEAEWtBABBrgQAOa8EADWwBAAtsQQAKbIEACGzBAAdtAQAFbUEABG2BAAKtwQAArgEAP64BAD2uQQA8boEAOq7BADmvAQA3r0EANq+BADSvwQAzsAEAMbBBADCwgQAu8MEALfEBACvxQQAq8YEAKTHBACcyAQAmMkEAJDKBACMywQAhMwEAIDNBAB5zgQAdc8EAG3QBABm0QQAYtIEAFrTBABW1AQAT9UEAErWBABC1wQAPtgEADfZBAAy2gQAK9sEACfcBAAf3QQAG94EABPfBAAM4AQACOEEAADiBAD84gQA9OMEAPDkBADp5QQA5eYEAN3nBADZ6AQA0ekEAM3qBADF6wQAvuwEALrtBACy7gQAru8EAKbwBACi8QQAmvIEAJbzBACO9AQAivUEAIL2BAB+9wQAd/gEAHP5BABr+gQAZ/sEAF/8BABb/QQAU/4EAEz/BABIAAUAQAEFADwCBQA0AwUAMAQFACkFBQAlBgUAHQcFABYIBQARCQUACgoFAAYLBQD+CwUA+gwFAPINBQDtDgUA6Q8FAOAQBQDbEQUA1xIFAM4TBQDKFAUAxRUFAL0WBQC4FwUAsxgFAKsZBQCmGgUAnhsFAJkcBQCUHQUAjB4FAIcfBQCCIAUAeiEFAHUiBQBwIwUAaCQFAGMlBQBeJgUAVicFAFEoBQBNKQUARCoFAEArBQA7LAUAMi0FAC4uBQApLwUAIDAFABwxBQAXMgUADjMFAAk0BQAENQUA/DUFAPc2BQDyNwUA6jgFAOU5BQDgOgUA2zsFANM8BQDOPQUAyT4FAMA/BQC8QAUAt0EFAK5CBQCpQwUApUQFAJxFBQCXRgUAk0cFAIpIBQCFSQUAgEoFAHhLBQBzTAUAbk0FAGZOBQBhTwUAXVAFAFRRBQBPUgUASlMFAEJUBQA9VQUAOFYFADBXBQArWAUAJlkFAB5aBQAZWwUAFFwFAAxdBQA=",
          "dtype": "i4"
         },
         "y": {
          "bdata": "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",
          "dtype": "f8"
         }
        },
        {
         "line": {
          "color": "gray",
          "dash": "dash",
          "width": 1
         },
         "mode": "lines",
         "name": "Tipo 0",
         "showlegend": false,
         "type": "scatter",
         "x": [
          303252,
          303252
         ],
         "y": [
          1.7614925373134327,
          100.63925373134329
         ]
        },
        {
         "line": {
          "color": "gray",
          "dash": "dash",
          "width": 1
         },
         "mode": "lines",
         "name": "Tipo 0",
         "showlegend": false,
         "type": "scatter",
         "x": [
          304501,
          304501
         ],
         "y": [
          1.7614925373134327,
          100.63925373134329
         ]
        },
        {
         "line": {
          "color": "gray",
          "dash": "dash",
          "width": 1
         },
         "mode": "lines",
         "name": "Tipo 0",
         "showlegend": false,
         "type": "scatter",
         "x": [
          306001,
          306001
         ],
         "y": [
          1.7614925373134327,
          100.63925373134329
         ]
        },
        {
         "line": {
          "color": "gray",
          "dash": "dash",
          "width": 1
         },
         "mode": "lines",
         "name": "Tipo 0",
         "showlegend": false,
         "type": "scatter",
         "x": [
          307253,
          307253
         ],
         "y": [
          1.7614925373134327,
          100.63925373134329
         ]
        },
        {
         "line": {
          "color": "gray",
          "dash": "dash",
          "width": 1
         },
         "mode": "lines",
         "name": "Tipo 0",
         "showlegend": false,
         "type": "scatter",
         "x": [
          311002,
          311002
         ],
         "y": [
          1.7614925373134327,
          100.63925373134329
         ]
        },
        {
         "line": {
          "color": "gray",
          "dash": "dash",
          "width": 1
         },
         "mode": "lines",
         "name": "Tipo 0",
         "showlegend": false,
         "type": "scatter",
         "x": [
          319500,
          319500
         ],
         "y": [
          1.7614925373134327,
          100.63925373134329
         ]
        },
        {
         "line": {
          "color": "gray",
          "dash": "dash",
          "width": 1
         },
         "mode": "lines",
         "name": "Tipo 0",
         "showlegend": false,
         "type": "scatter",
         "x": [
          325502,
          325502
         ],
         "y": [
          1.7614925373134327,
          100.63925373134329
         ]
        },
        {
         "line": {
          "color": "red",
          "dash": "dash",
          "width": 1
         },
         "mode": "lines",
         "name": "Tipo 1",
         "showlegend": false,
         "type": "scatter",
         "x": [
          298502,
          298502
         ],
         "y": [
          1.7614925373134327,
          100.63925373134329
         ]
        },
        {
         "line": {
          "color": "red",
          "dash": "dash",
          "width": 1
         },
         "mode": "lines",
         "name": "Tipo 1",
         "showlegend": false,
         "type": "scatter",
         "x": [
          302500,
          302500
         ],
         "y": [
          1.7614925373134327,
          100.63925373134329
         ]
        },
        {
         "line": {
          "color": "red",
          "dash": "dash",
          "width": 1
         },
         "mode": "lines",
         "name": "Tipo 1",
         "showlegend": false,
         "type": "scatter",
         "x": [
          310250,
          310250
         ],
         "y": [
          1.7614925373134327,
          100.63925373134329
         ]
        },
        {
         "line": {
          "color": "green",
          "dash": "dash",
          "width": 1
         },
         "mode": "lines",
         "name": "Tipo 2",
         "showlegend": false,
         "type": "scatter",
         "x": [
          309250,
          309250
         ],
         "y": [
          1.7614925373134327,
          100.63925373134329
         ]
        },
        {
         "line": {
          "color": "green",
          "dash": "dash",
          "width": 1
         },
         "mode": "lines",
         "name": "Tipo 2",
         "showlegend": false,
         "type": "scatter",
         "x": [
          320252,
          320252
         ],
         "y": [
          1.7614925373134327,
          100.63925373134329
         ]
        },
        {
         "line": {
          "color": "green",
          "dash": "dash",
          "width": 1
         },
         "mode": "lines",
         "name": "Tipo 2",
         "showlegend": false,
         "type": "scatter",
         "x": [
          324250,
          324250
         ],
         "y": [
          1.7614925373134327,
          100.63925373134329
         ]
        },
        {
         "line": {
          "color": "green",
          "dash": "dash",
          "width": 1
         },
         "mode": "lines",
         "name": "Tipo 2",
         "showlegend": false,
         "type": "scatter",
         "x": [
          331250,
          331250
         ],
         "y": [
          1.7614925373134327,
          100.63925373134329
         ]
        },
        {
         "line": {
          "color": "green",
          "dash": "dash",
          "width": 1
         },
         "mode": "lines",
         "name": "Tipo 2",
         "showlegend": false,
         "type": "scatter",
         "x": [
          339502,
          339502
         ],
         "y": [
          1.7614925373134327,
          100.63925373134329
         ]
        },
        {
         "line": {
          "color": "green",
          "dash": "dash",
          "width": 1
         },
         "mode": "lines",
         "name": "Tipo 2",
         "showlegend": false,
         "type": "scatter",
         "x": [
          341252,
          341252
         ],
         "y": [
          1.7614925373134327,
          100.63925373134329
         ]
        },
        {
         "line": {
          "color": "green",
          "dash": "dash",
          "width": 1
         },
         "mode": "lines",
         "name": "Tipo 2",
         "showlegend": false,
         "type": "scatter",
         "x": [
          350750,
          350750
         ],
         "y": [
          1.7614925373134327,
          100.63925373134329
         ]
        },
        {
         "line": {
          "color": "orange",
          "dash": "dash",
          "width": 1
         },
         "mode": "lines",
         "name": "Tipo 3",
         "showlegend": false,
         "type": "scatter",
         "x": [
          300752,
          300752
         ],
         "y": [
          1.7614925373134327,
          100.63925373134329
         ]
        },
        {
         "line": {
          "color": "gray"
         },
         "mode": "lines",
         "name": "OFF",
         "type": "scatter",
         "x": [
          null
         ],
         "y": [
          null
         ]
        },
        {
         "line": {
          "color": "red"
         },
         "mode": "lines",
         "name": "Tipo 1",
         "type": "scatter",
         "x": [
          null
         ],
         "y": [
          null
         ]
        },
        {
         "line": {
          "color": "green"
         },
         "mode": "lines",
         "name": "Tipo 2",
         "type": "scatter",
         "x": [
          null
         ],
         "y": [
          null
         ]
        },
        {
         "line": {
          "color": "orange"
         },
         "mode": "lines",
         "name": "Tipo 3",
         "type": "scatter",
         "x": [
          null
         ],
         "y": [
          null
         ]
        },
        {
         "line": {
          "color": "purple"
         },
         "mode": "lines",
         "name": "Tipo 4",
         "type": "scatter",
         "x": [
          null
         ],
         "y": [
          null
         ]
        }
       ],
       "layout": {
        "legend": {
         "orientation": "h",
         "x": 1,
         "xanchor": "right",
         "y": 1.02,
         "yanchor": "bottom"
        },
        "template": {
         "data": {
          "bar": [
           {
            "error_x": {
             "color": "#2a3f5f"
            },
            "error_y": {
             "color": "#2a3f5f"
            },
            "marker": {
             "line": {
              "color": "white",
              "width": 0.5
             },
             "pattern": {
              "fillmode": "overlay",
              "size": 10,
              "solidity": 0.2
             }
            },
            "type": "bar"
           }
          ],
          "barpolar": [
           {
            "marker": {
             "line": {
              "color": "white",
              "width": 0.5
             },
             "pattern": {
              "fillmode": "overlay",
              "size": 10,
              "solidity": 0.2
             }
            },
            "type": "barpolar"
           }
          ],
          "carpet": [
           {
            "aaxis": {
             "endlinecolor": "#2a3f5f",
             "gridcolor": "#C8D4E3",
             "linecolor": "#C8D4E3",
             "minorgridcolor": "#C8D4E3",
             "startlinecolor": "#2a3f5f"
            },
            "baxis": {
             "endlinecolor": "#2a3f5f",
             "gridcolor": "#C8D4E3",
             "linecolor": "#C8D4E3",
             "minorgridcolor": "#C8D4E3",
             "startlinecolor": "#2a3f5f"
            },
            "type": "carpet"
           }
          ],
          "choropleth": [
           {
            "colorbar": {
             "outlinewidth": 0,
             "ticks": ""
            },
            "type": "choropleth"
           }
          ],
          "contour": [
           {
            "colorbar": {
             "outlinewidth": 0,
             "ticks": ""
            },
            "colorscale": [
             [
              0,
              "#0d0887"
             ],
             [
              0.1111111111111111,
              "#46039f"
             ],
             [
              0.2222222222222222,
              "#7201a8"
             ],
             [
              0.3333333333333333,
              "#9c179e"
             ],
             [
              0.4444444444444444,
              "#bd3786"
             ],
             [
              0.5555555555555556,
              "#d8576b"
             ],
             [
              0.6666666666666666,
              "#ed7953"
             ],
             [
              0.7777777777777778,
              "#fb9f3a"
             ],
             [
              0.8888888888888888,
              "#fdca26"
             ],
             [
              1,
              "#f0f921"
             ]
            ],
            "type": "contour"
           }
          ],
          "contourcarpet": [
           {
            "colorbar": {
             "outlinewidth": 0,
             "ticks": ""
            },
            "type": "contourcarpet"
           }
          ],
          "heatmap": [
           {
            "colorbar": {
             "outlinewidth": 0,
             "ticks": ""
            },
            "colorscale": [
             [
              0,
              "#0d0887"
             ],
             [
              0.1111111111111111,
              "#46039f"
             ],
             [
              0.2222222222222222,
              "#7201a8"
             ],
             [
              0.3333333333333333,
              "#9c179e"
             ],
             [
              0.4444444444444444,
              "#bd3786"
             ],
             [
              0.5555555555555556,
              "#d8576b"
             ],
             [
              0.6666666666666666,
              "#ed7953"
             ],
             [
              0.7777777777777778,
              "#fb9f3a"
             ],
             [
              0.8888888888888888,
              "#fdca26"
             ],
             [
              1,
              "#f0f921"
             ]
            ],
            "type": "heatmap"
           }
          ],
          "histogram": [
           {
            "marker": {
             "pattern": {
              "fillmode": "overlay",
              "size": 10,
              "solidity": 0.2
             }
            },
            "type": "histogram"
           }
          ],
          "histogram2d": [
           {
            "colorbar": {
             "outlinewidth": 0,
             "ticks": ""
            },
            "colorscale": [
             [
              0,
              "#0d0887"
             ],
             [
              0.1111111111111111,
              "#46039f"
             ],
             [
              0.2222222222222222,
              "#7201a8"
             ],
             [
              0.3333333333333333,
              "#9c179e"
             ],
             [
              0.4444444444444444,
              "#bd3786"
             ],
             [
              0.5555555555555556,
              "#d8576b"
             ],
             [
              0.6666666666666666,
              "#ed7953"
             ],
             [
              0.7777777777777778,
              "#fb9f3a"
             ],
             [
              0.8888888888888888,
              "#fdca26"
             ],
             [
              1,
              "#f0f921"
             ]
            ],
            "type": "histogram2d"
           }
          ],
          "histogram2dcontour": [
           {
            "colorbar": {
             "outlinewidth": 0,
             "ticks": ""
            },
            "colorscale": [
             [
              0,
              "#0d0887"
             ],
             [
              0.1111111111111111,
              "#46039f"
             ],
             [
              0.2222222222222222,
              "#7201a8"
             ],
             [
              0.3333333333333333,
              "#9c179e"
             ],
             [
              0.4444444444444444,
              "#bd3786"
             ],
             [
              0.5555555555555556,
              "#d8576b"
             ],
             [
              0.6666666666666666,
              "#ed7953"
             ],
             [
              0.7777777777777778,
              "#fb9f3a"
             ],
             [
              0.8888888888888888,
              "#fdca26"
             ],
             [
              1,
              "#f0f921"
             ]
            ],
            "type": "histogram2dcontour"
           }
          ],
          "mesh3d": [
           {
            "colorbar": {
             "outlinewidth": 0,
             "ticks": ""
            },
            "type": "mesh3d"
           }
          ],
          "parcoords": [
           {
            "line": {
             "colorbar": {
              "outlinewidth": 0,
              "ticks": ""
             }
            },
            "type": "parcoords"
           }
          ],
          "pie": [
           {
            "automargin": true,
            "type": "pie"
           }
          ],
          "scatter": [
           {
            "fillpattern": {
             "fillmode": "overlay",
             "size": 10,
             "solidity": 0.2
            },
            "type": "scatter"
           }
          ],
          "scatter3d": [
           {
            "line": {
             "colorbar": {
              "outlinewidth": 0,
              "ticks": ""
             }
            },
            "marker": {
             "colorbar": {
              "outlinewidth": 0,
              "ticks": ""
             }
            },
            "type": "scatter3d"
           }
          ],
          "scattercarpet": [
           {
            "marker": {
             "colorbar": {
              "outlinewidth": 0,
              "ticks": ""
             }
            },
            "type": "scattercarpet"
           }
          ],
          "scattergeo": [
           {
            "marker": {
             "colorbar": {
              "outlinewidth": 0,
              "ticks": ""
             }
            },
            "type": "scattergeo"
           }
          ],
          "scattergl": [
           {
            "marker": {
             "colorbar": {
              "outlinewidth": 0,
              "ticks": ""
             }
            },
            "type": "scattergl"
           }
          ],
          "scattermap": [
           {
            "marker": {
             "colorbar": {
              "outlinewidth": 0,
              "ticks": ""
             }
            },
            "type": "scattermap"
           }
          ],
          "scattermapbox": [
           {
            "marker": {
             "colorbar": {
              "outlinewidth": 0,
              "ticks": ""
             }
            },
            "type": "scattermapbox"
           }
          ],
          "scatterpolar": [
           {
            "marker": {
             "colorbar": {
              "outlinewidth": 0,
              "ticks": ""
             }
            },
            "type": "scatterpolar"
           }
          ],
          "scatterpolargl": [
           {
            "marker": {
             "colorbar": {
              "outlinewidth": 0,
              "ticks": ""
             }
            },
            "type": "scatterpolargl"
           }
          ],
          "scatterternary": [
           {
            "marker": {
             "colorbar": {
              "outlinewidth": 0,
              "ticks": ""
             }
            },
            "type": "scatterternary"
           }
          ],
          "surface": [
           {
            "colorbar": {
             "outlinewidth": 0,
             "ticks": ""
            },
            "colorscale": [
             [
              0,
              "#0d0887"
             ],
             [
              0.1111111111111111,
              "#46039f"
             ],
             [
              0.2222222222222222,
              "#7201a8"
             ],
             [
              0.3333333333333333,
              "#9c179e"
             ],
             [
              0.4444444444444444,
              "#bd3786"
             ],
             [
              0.5555555555555556,
              "#d8576b"
             ],
             [
              0.6666666666666666,
              "#ed7953"
             ],
             [
              0.7777777777777778,
              "#fb9f3a"
             ],
             [
              0.8888888888888888,
              "#fdca26"
             ],
             [
              1,
              "#f0f921"
             ]
            ],
            "type": "surface"
           }
          ],
          "table": [
           {
            "cells": {
             "fill": {
              "color": "#EBF0F8"
             },
             "line": {
              "color": "white"
             }
            },
            "header": {
             "fill": {
              "color": "#C8D4E3"
             },
             "line": {
              "color": "white"
             }
            },
            "type": "table"
           }
          ]
         },
         "layout": {
          "annotationdefaults": {
           "arrowcolor": "#2a3f5f",
           "arrowhead": 0,
           "arrowwidth": 1
          },
          "autotypenumbers": "strict",
          "coloraxis": {
           "colorbar": {
            "outlinewidth": 0,
            "ticks": ""
           }
          },
          "colorscale": {
           "diverging": [
            [
             0,
             "#8e0152"
            ],
            [
             0.1,
             "#c51b7d"
            ],
            [
             0.2,
             "#de77ae"
            ],
            [
             0.3,
             "#f1b6da"
            ],
            [
             0.4,
             "#fde0ef"
            ],
            [
             0.5,
             "#f7f7f7"
            ],
            [
             0.6,
             "#e6f5d0"
            ],
            [
             0.7,
             "#b8e186"
            ],
            [
             0.8,
             "#7fbc41"
            ],
            [
             0.9,
             "#4d9221"
            ],
            [
             1,
             "#276419"
            ]
           ],
           "sequential": [
            [
             0,
             "#0d0887"
            ],
            [
             0.1111111111111111,
             "#46039f"
            ],
            [
             0.2222222222222222,
             "#7201a8"
            ],
            [
             0.3333333333333333,
             "#9c179e"
            ],
            [
             0.4444444444444444,
             "#bd3786"
            ],
            [
             0.5555555555555556,
             "#d8576b"
            ],
            [
             0.6666666666666666,
             "#ed7953"
            ],
            [
             0.7777777777777778,
             "#fb9f3a"
            ],
            [
             0.8888888888888888,
             "#fdca26"
            ],
            [
             1,
             "#f0f921"
            ]
           ],
           "sequentialminus": [
            [
             0,
             "#0d0887"
            ],
            [
             0.1111111111111111,
             "#46039f"
            ],
            [
             0.2222222222222222,
             "#7201a8"
            ],
            [
             0.3333333333333333,
             "#9c179e"
            ],
            [
             0.4444444444444444,
             "#bd3786"
            ],
            [
             0.5555555555555556,
             "#d8576b"
            ],
            [
             0.6666666666666666,
             "#ed7953"
            ],
            [
             0.7777777777777778,
             "#fb9f3a"
            ],
            [
             0.8888888888888888,
             "#fdca26"
            ],
            [
             1,
             "#f0f921"
            ]
           ]
          },
          "colorway": [
           "#636efa",
           "#EF553B",
           "#00cc96",
           "#ab63fa",
           "#FFA15A",
           "#19d3f3",
           "#FF6692",
           "#B6E880",
           "#FF97FF",
           "#FECB52"
          ],
          "font": {
           "color": "#2a3f5f"
          },
          "geo": {
           "bgcolor": "white",
           "lakecolor": "white",
           "landcolor": "white",
           "showlakes": true,
           "showland": true,
           "subunitcolor": "#C8D4E3"
          },
          "hoverlabel": {
           "align": "left"
          },
          "hovermode": "closest",
          "mapbox": {
           "style": "light"
          },
          "paper_bgcolor": "white",
          "plot_bgcolor": "white",
          "polar": {
           "angularaxis": {
            "gridcolor": "#EBF0F8",
            "linecolor": "#EBF0F8",
            "ticks": ""
           },
           "bgcolor": "white",
           "radialaxis": {
            "gridcolor": "#EBF0F8",
            "linecolor": "#EBF0F8",
            "ticks": ""
           }
          },
          "scene": {
           "xaxis": {
            "backgroundcolor": "white",
            "gridcolor": "#DFE8F3",
            "gridwidth": 2,
            "linecolor": "#EBF0F8",
            "showbackground": true,
            "ticks": "",
            "zerolinecolor": "#EBF0F8"
           },
           "yaxis": {
            "backgroundcolor": "white",
            "gridcolor": "#DFE8F3",
            "gridwidth": 2,
            "linecolor": "#EBF0F8",
            "showbackground": true,
            "ticks": "",
            "zerolinecolor": "#EBF0F8"
           },
           "zaxis": {
            "backgroundcolor": "white",
            "gridcolor": "#DFE8F3",
            "gridwidth": 2,
            "linecolor": "#EBF0F8",
            "showbackground": true,
            "ticks": "",
            "zerolinecolor": "#EBF0F8"
           }
          },
          "shapedefaults": {
           "line": {
            "color": "#2a3f5f"
           }
          },
          "ternary": {
           "aaxis": {
            "gridcolor": "#DFE8F3",
            "linecolor": "#A2B1C6",
            "ticks": ""
           },
           "baxis": {
            "gridcolor": "#DFE8F3",
            "linecolor": "#A2B1C6",
            "ticks": ""
           },
           "bgcolor": "white",
           "caxis": {
            "gridcolor": "#DFE8F3",
            "linecolor": "#A2B1C6",
            "ticks": ""
           }
          },
          "title": {
           "x": 0.05
          },
          "xaxis": {
           "automargin": true,
           "gridcolor": "#EBF0F8",
           "linecolor": "#EBF0F8",
           "ticks": "",
           "title": {
            "standoff": 15
           },
           "zerolinecolor": "#EBF0F8",
           "zerolinewidth": 2
          },
          "yaxis": {
           "automargin": true,
           "gridcolor": "#EBF0F8",
           "linecolor": "#EBF0F8",
           "ticks": "",
           "title": {
            "standoff": 15
           },
           "zerolinecolor": "#EBF0F8",
           "zerolinewidth": 2
          }
         }
        },
        "title": {
         "text": "Reconhecimento de Eventos na Curva de Potência"
        },
        "xaxis": {
         "title": {
          "text": "Tempo (s)"
         }
        },
        "yaxis": {
         "title": {
          "text": "Potência Ativa (W)"
         }
        }
       }
      }
     },
     "metadata": {},
     "output_type": "display_data"
    }
   ],
   "source": [
    "rec = pd.read_csv('reconhecimento1.csv',sep=' - ')\n",
    "rec['tipo'] = rec.apply(lambda x:1 if '1' in x['evento'] else 2 if '2' in x['evento'] else 3 if '3' in x['evento'] else 4 if '4' in x['evento'] else 0, axis=1)\n",
    "# Cores por tipo\n",
    "cores = {\n",
    "    0: 'gray',\n",
    "    1: 'red',\n",
    "    2: 'green',\n",
    "    3: 'orange',\n",
    "    4: 'purple'\n",
    "}\n",
    "\n",
    "# Criando figura\n",
    "fig = go.Figure()\n",
    "\n",
    "# Curva de potência\n",
    "fig.add_trace(go.Scatter(\n",
    "    x=df_agrupado['tempo'],\n",
    "    y=df_agrupado['pa'],\n",
    "    mode='lines',\n",
    "    name='PA',\n",
    "    line=dict(color='blue')\n",
    "))\n",
    "\n",
    "# Barras verticais por tipo\n",
    "for tipo, cor in cores.items():\n",
    "    sub = rec[rec['tipo'] == tipo]\n",
    "    for tempo in sub['tempo']:\n",
    "        fig.add_trace(go.Scatter(\n",
    "            x=[tempo, tempo],\n",
    "            y=[df_agrupado['pa'].min(), df_agrupado['pa'].max()],\n",
    "            mode='lines',\n",
    "            line=dict(color=cor, dash='dash', width=1),\n",
    "            name=f'Tipo {tipo}',\n",
    "            showlegend=False  # Evita duplicar legenda\n",
    "        ))\n",
    "\n",
    "# Legenda personalizada\n",
    "fig.add_trace(go.Scatter(x=[None], y=[None], mode='lines', line=dict(color='gray'), name='OFF'))\n",
    "fig.add_trace(go.Scatter(x=[None], y=[None], mode='lines', line=dict(color='red'), name='Tipo 1'))\n",
    "fig.add_trace(go.Scatter(x=[None], y=[None], mode='lines', line=dict(color='green'), name='Tipo 2'))\n",
    "fig.add_trace(go.Scatter(x=[None], y=[None], mode='lines', line=dict(color='orange'), name='Tipo 3'))\n",
    "fig.add_trace(go.Scatter(x=[None], y=[None], mode='lines', line=dict(color='purple'), name='Tipo 4'))\n",
    "\n",
    "# Layout\n",
    "fig.update_layout(\n",
    "    title='Reconhecimento de Eventos na Curva de Potência',\n",
    "    xaxis_title='Tempo (s)',\n",
    "    yaxis_title='Potência Ativa (W)',\n",
    "    template='plotly_white',\n",
    "    legend=dict(orientation='h', yanchor='bottom', y=1.02, xanchor='right', x=1)\n",
    ")\n",
    "\n",
    "fig.show()"
   ]
  }
 ],
 "metadata": {
  "kernelspec": {
   "display_name": "Python 3",
   "language": "python",
   "name": "python3"
  },
  "language_info": {
   "codemirror_mode": {
    "name": "ipython",
    "version": 3
   },
   "file_extension": ".py",
   "mimetype": "text/x-python",
   "name": "python",
   "nbconvert_exporter": "python",
   "pygments_lexer": "ipython3",
   "version": "3.13.3"
  }
 },
 "nbformat": 4,
 "nbformat_minor": 2
}
